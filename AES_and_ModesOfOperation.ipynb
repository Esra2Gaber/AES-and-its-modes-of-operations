{
  "nbformat": 4,
  "nbformat_minor": 0,
  "metadata": {
    "colab": {
      "name": "AES_and_ModesOfOperation.ipynb",
      "provenance": [],
      "collapsed_sections": [
        "yJsn3Hq0atz5",
        "y0Y4r8XGOmFw"
      ]
    },
    "kernelspec": {
      "display_name": "Python 3",
      "name": "python3"
    },
    "language_info": {
      "name": "python"
    }
  },
  "cells": [
    {
      "cell_type": "markdown",
      "source": [
        "## AES Function"
      ],
      "metadata": {
        "id": "Z8Vtop9zbgJY"
      }
    },
    {
      "cell_type": "code",
      "metadata": {
        "id": "VDnBf7EXb1ZN"
      },
      "source": [
        "#BELOW IS THE AES CODE\n",
        "\n",
        "#!/usr/bin/env python\n",
        "# coding: utf-8\n",
        "\n",
        "# In[1]:\n",
        "\n",
        "\n",
        "#import libraries\n",
        "import numpy as np\n",
        "\n",
        "\n",
        "# In[2]:\n",
        "\n",
        "\n",
        "'''\n",
        "Function Name: Matrix_To_String\n",
        "  Convert input matrix to string\n",
        "Parameters:\n",
        "  input matrix\n",
        "Returns:\n",
        "  String containing the elements of the input matrix\n",
        "'''\n",
        "def Matrix_To_String(matrix):\n",
        "    #gets size of matrix\n",
        "    R = len(matrix)\n",
        "    C = len(matrix[0])\n",
        "\n",
        "    #iniztilize empty string\n",
        "    string = '' \n",
        "    \n",
        "    #iterate over the rows and the coloumns\n",
        "    for j in range(C):\n",
        "        for i in range(R):\n",
        "            #add every element of the matrix to the string\n",
        "            string += matrix[i][j] \n",
        "    \n",
        "    #return string\n",
        "    return string\n",
        "\n",
        "\n",
        "# In[3]:\n",
        "\n",
        "\n",
        "'''\n",
        "Function Name: Convert_to_Matrix\n",
        "  Convert input string or list to matrix of size 4 x 4\n",
        "Parameters:\n",
        "  input string or list\n",
        "Returns:\n",
        "  matrix\n",
        "'''\n",
        "\n",
        "def Convert_to_Matrix(data):\n",
        "    #matrix has to be 4 x 4 \n",
        "    R,C = 4,4\n",
        "    #initialize numpy matrix\n",
        "    matrix = np.zeros((R,C) , dtype = np.chararray)\n",
        "    position = 0\n",
        "    \n",
        "    #iterate over the rows and coloums\n",
        "    for j in range(C):\n",
        "        for i in range(R):\n",
        "            if(type(data) is str): #if string\n",
        "                matrix[i][j] = data[position:position+2] #at position i and j, add the intended value to the matrix\n",
        "                position += 2\n",
        "                \n",
        "            elif(type(data) is list): #if list\n",
        "                matrix[i][j] = data[position] + data[position+1]\n",
        "                position += 2\n",
        "            \n",
        "    return matrix\n",
        "\n",
        "\n",
        "# In[4]:\n",
        "\n",
        "\n",
        "'''\n",
        "Function Name: Convert_to_Matrix_256\n",
        "  Convert input string or list to matrix of size 4 x 8 (used for AES 256)\n",
        "Parameters:\n",
        "  input string or list\n",
        "Returns:\n",
        "  matrix\n",
        "'''\n",
        "\n",
        "def Convert_to_Matrix_256(data):\n",
        "    R,C = 4,8 #matrix 4x8\n",
        "    matrix = np.zeros((R,C) , dtype = np.chararray)\n",
        "    position = 0\n",
        "    \n",
        "    #iterate over the rows and coloums\n",
        "    for j in range(C):\n",
        "        for i in range(R):\n",
        "            if(type(data) is str): #if string\n",
        "                matrix[i][j] = data[position:position+2]  #at position i and j, add the intended value to the matrix\n",
        "                position += 2\n",
        "                \n",
        "            elif(type(data) is list): #if list\n",
        "                matrix[i][j] = data[position] + data[position+1]\n",
        "                position += 2\n",
        "            \n",
        "    return matrix\n",
        "\n",
        "\n",
        "# In[5]:\n",
        "\n",
        "\n",
        "'''\n",
        "Function Name: HEX_Column_To_String\n",
        "  convert a hexadecimal column in a given matrix to a string\n",
        "Parameters:\n",
        "  matrix column\n",
        "Returns:\n",
        "  string\n",
        "'''\n",
        "\n",
        "def HEX_Column_To_String(Column):\n",
        "    string=Column[0]+Column[1]+Column[2]+Column[3]#add every element together in a list\n",
        "    return string\n",
        "\n",
        "\n",
        "# In[6]:\n",
        "\n",
        "\n",
        "'''\n",
        "Function Name: BIN_To_HEX\n",
        "  Convert input binary number to hexadecimal number\n",
        "Parameters:\n",
        "  binary number\n",
        "Returns:\n",
        "  converted hexadecimal number\n",
        "'''\n",
        "\n",
        "def BIN_To_HEX(number):\n",
        "    #use \"hex\" to convert the number to hexadecimal\n",
        "    hex_output = hex(int(number, 2)) \n",
        "    #remove the 0x\n",
        "    output=hex_output.replace('0x' , '')\n",
        "    return output\n",
        "\n",
        "\n",
        "# In[7]:\n",
        "\n",
        "\n",
        "'''\n",
        "Function Name: HEX_To_BIN\n",
        "  Convert input hexadecimal number to  binary number\n",
        "Parameters:\n",
        "  hexadecimal number (should be 16 length and if not pad or fill it with zeros)\n",
        "Returns:\n",
        "  converted binary number\n",
        "'''\n",
        "\n",
        "def HEX_To_BIN(data):\n",
        "    #use \"bin\" to convert the number to binary\n",
        "    bin_output = bin(int(data , 16))\n",
        "    #pad the string with zeros\n",
        "    bin_pad = bin_output[2:].zfill(8)\n",
        "    return bin_pad\n",
        "\n",
        "\n",
        "# In[8]:\n",
        "\n",
        "\n",
        "#Function to add a zero to a given string\n",
        "#takes input a string and add zero to the starting of the string\n",
        "#output string\n",
        "\n",
        "def add_zero(string):\n",
        "    for i in range(8-len(string)): \n",
        "        string = '0'+ string\n",
        "        \n",
        "    return string\n",
        "\n",
        "\n",
        "# In[9]:\n",
        "\n",
        "\n",
        "#shift left first two indecies in a given word (used in key expansion)\n",
        "#takes input word string\n",
        "#output string\n",
        "\n",
        "def Left_Shift(word):\n",
        "    output=word[2:len(word)] + word[0:2]\n",
        "    return output\n",
        "\n",
        "\n",
        "# In[10]:\n",
        "\n",
        "\n",
        "def Key_Expand_256(key):\n",
        "    k = Convert_to_Matrix_256(key) #2hex per cell\n",
        "    w = list()  #word is column major\n",
        "    round_number = 0\n",
        "    RC = ['01' , '02' , '04' , '08' , '10' , '20' , '40' , '80' , '1b' , '36', '01' , '02','04' , '08']\n",
        "    \n",
        "    for j in range(8):\n",
        "        word = HEX_Column_To_String(k[:,j])\n",
        "        w.append(word)\n",
        "\n",
        "    for i in range(8 , 60, 1):\n",
        "        word = ''\n",
        "        if(i % 8 == 0): \n",
        "            output= RC[round_number]+'000000'\n",
        "            output1=Left_Shift(w[(i-1)])\n",
        "            output2=Sub_Byte(output1 , 'E')\n",
        "            word = HEX_XOR(w[(i-8)] , HEX_XOR(output2 ,output))\n",
        "            round_number += 1\n",
        "        elif (i%4 == 0):\n",
        "            outputt = Sub_Byte(w[i-1] , 'E')\n",
        "            word = HEX_XOR(w[(i-8)] , outputt)\n",
        "\n",
        "        else:\n",
        "            word = HEX_XOR(w[(i-8)] , w[(i-1)])\n",
        "            \n",
        "        w.append(word)            \n",
        "    return w\n",
        "\n",
        "\n",
        "# In[12]:\n",
        "\n",
        "\n",
        "#The rotate function is used to rotate rows n number of times\n",
        "#takes input rows and n\n",
        "#return modified rows\n",
        "def rotate(row, n):\n",
        "  return row[n:] + row[:n]\n",
        "\n",
        "\n",
        "# In[13]:\n",
        "\n",
        "\n",
        "#Galois Field Multiplication function used to multiply matrices.\n",
        "\n",
        "def GF_Mul(S , M):\n",
        "    result = ''\n",
        "    S = HEX_To_BIN(S) #first convert the number to binary\n",
        "\n",
        "    #if we multiply by \"01\" it's just the same result\n",
        "    if(M == '01'): \n",
        "        result = BIN_To_HEX(S)\n",
        "\n",
        "    #if we multiply by \"02\" we should check the first byte, if it's \"0\" we will just shift it to the left, if it's \"1\" we will shift it and do XOR operation with \"1b\"\n",
        "    elif(S[0] == '0' and M == '02'):  \n",
        "        result = BIN_To_HEX(S[1:len(S)]+'0')\n",
        "    elif(S[0] == '1' and M == '02'):\n",
        "        result = HEX_XOR(BIN_To_HEX(S[1:len(S)]+'0') , '1b')\n",
        "\n",
        "    #if we multiply by \"03\" then we will do multiplication with \"02\" and then \"01\"    \n",
        "    elif(M == '03'):\n",
        "        result = HEX_XOR(GF_Mul(BIN_To_HEX(S) , '02') , BIN_To_HEX(S))\n",
        "\n",
        "    #if we multiply by \"09\" then we will do multiplication with \"02\" three times and then \"01\" to become \"09\"\n",
        "    elif(M == '09'):\n",
        "        step1 = GF_Mul(BIN_To_HEX(S) , '02')\n",
        "        step2 = GF_Mul(step1 , '02')\n",
        "        step3 = GF_Mul(step2 , '02')\n",
        "        result = HEX_XOR(step3 , BIN_To_HEX(S))\n",
        "\n",
        "    #if we multiply by \"0b\" then we will do multiplication with \"02\" two times and then \"01\" then \"02\" then \"01\" to become \"0b\"    (b stands for 11 in decimal)\n",
        "    elif(M == '0b'):\n",
        "        step1 = GF_Mul(BIN_To_HEX(S) , '02')\n",
        "        step2 = GF_Mul(step1 , '02')\n",
        "        step3 = HEX_XOR(step2 , BIN_To_HEX(S))\n",
        "        step4 = GF_Mul(step3 , '02')\n",
        "        result = HEX_XOR(step4 , BIN_To_HEX(S))\n",
        "\n",
        "    #if we multiply by \"0d\" then we will do multiplication with \"02\" and then \"01\" then \"02\" two times then \"01\" to become \"0d\"    (d stands for 13 in decimal)    \n",
        "    elif(M == '0d'):\n",
        "        step1 = GF_Mul(BIN_To_HEX(S) , '02')\n",
        "        step2 = HEX_XOR(step1 , BIN_To_HEX(S))\n",
        "        step3 = GF_Mul(step2 , '02')\n",
        "        step4 = GF_Mul(step3 , '02')\n",
        "        result = HEX_XOR(step4 , BIN_To_HEX(S))\n",
        "\n",
        "    #if we multiply by \"0e\" then we will do multiplication with \"02\" and then \"01\" then \"02\" then \"01\" then \"02\" to become \"0e\"    (e stands for 14 in decimal)     \n",
        "    elif(M == '0e'):\n",
        "        step1 = GF_Mul(BIN_To_HEX(S) , '02')\n",
        "        step2 = HEX_XOR(step1 , BIN_To_HEX(S))\n",
        "        step3 = GF_Mul(step2 , '02')\n",
        "        step4 = HEX_XOR(step3 , BIN_To_HEX(S))\n",
        "        result = GF_Mul(step4 , '02')\n",
        "        \n",
        "    return result\n",
        "\n",
        "\n",
        "# In[14]:\n",
        "\n",
        "\n",
        "#the shift rows function shift the four rows of a given input matrix\n",
        "#takes input matrix and mode (E or D)\n",
        "def Shift_Rows(state_matrix, mode):\n",
        "  R,C = state_matrix.shape\n",
        "  #iterate of the last three rows and shift them according to the mode\n",
        "  for i in range(1,R):\n",
        "    if mode == 'E':\n",
        "      state_matrix[i,:] = rotate(list(state_matrix[i,:]), i)\n",
        "    else:\n",
        "      state_matrix[i,:] = rotate(list(state_matrix[i,:]), -i)\n",
        "  return state_matrix\n",
        "\n",
        "\n",
        "# In[15]:\n",
        "\n",
        "\n",
        "#function to substitue hexa number with its number in the subsitution box in the table\n",
        "#input matrix\n",
        "#output subitituted matrix \n",
        "\n",
        "def Sub_Byte(state_matrix , mode):\n",
        "    if(mode == 'E'):\n",
        "        sbox = [\n",
        "            [0x63, 0x7c, 0x77, 0x7b, 0xf2, 0x6b, 0x6f, 0xc5, 0x30, 0x01, 0x67, 0x2b, 0xfe, 0xd7, 0xab, 0x76],\n",
        "            [0xca, 0x82, 0xc9, 0x7d, 0xfa, 0x59, 0x47, 0xf0, 0xad, 0xd4, 0xa2, 0xaf, 0x9c, 0xa4, 0x72, 0xc0],\n",
        "            [0xb7, 0xfd, 0x93, 0x26, 0x36, 0x3f, 0xf7, 0xcc, 0x34, 0xa5, 0xe5, 0xf1, 0x71, 0xd8, 0x31, 0x15],\n",
        "            [0x04, 0xc7, 0x23, 0xc3, 0x18, 0x96, 0x05, 0x9a, 0x07, 0x12, 0x80, 0xe2, 0xeb, 0x27, 0xb2, 0x75],\n",
        "            [0x09, 0x83, 0x2c, 0x1a, 0x1b, 0x6e, 0x5a, 0xa0, 0x52, 0x3b, 0xd6, 0xb3, 0x29, 0xe3, 0x2f, 0x84],\n",
        "            [0x53, 0xd1, 0x00, 0xed, 0x20, 0xfc, 0xb1, 0x5b, 0x6a, 0xcb, 0xbe, 0x39, 0x4a, 0x4c, 0x58, 0xcf],\n",
        "            [0xd0, 0xef, 0xaa, 0xfb, 0x43, 0x4d, 0x33, 0x85, 0x45, 0xf9, 0x02, 0x7f, 0x50, 0x3c, 0x9f, 0xa8],\n",
        "            [0x51, 0xa3, 0x40, 0x8f, 0x92, 0x9d, 0x38, 0xf5, 0xbc, 0xb6, 0xda, 0x21, 0x10, 0xff, 0xf3, 0xd2],\n",
        "            [0xcd, 0x0c, 0x13, 0xec, 0x5f, 0x97, 0x44, 0x17, 0xc4, 0xa7, 0x7e, 0x3d, 0x64, 0x5d, 0x19, 0x73],\n",
        "            [0x60, 0x81, 0x4f, 0xdc, 0x22, 0x2a, 0x90, 0x88, 0x46, 0xee, 0xb8, 0x14, 0xde, 0x5e, 0x0b, 0xdb],\n",
        "            [0xe0, 0x32, 0x3a, 0x0a, 0x49, 0x06, 0x24, 0x5c, 0xc2, 0xd3, 0xac, 0x62, 0x91, 0x95, 0xe4, 0x79],\n",
        "            [0xe7, 0xc8, 0x37, 0x6d, 0x8d, 0xd5, 0x4e, 0xa9, 0x6c, 0x56, 0xf4, 0xea, 0x65, 0x7a, 0xae, 0x08],\n",
        "            [0xba, 0x78, 0x25, 0x2e, 0x1c, 0xa6, 0xb4, 0xc6, 0xe8, 0xdd, 0x74, 0x1f, 0x4b, 0xbd, 0x8b, 0x8a],\n",
        "            [0x70, 0x3e, 0xb5, 0x66, 0x48, 0x03, 0xf6, 0x0e, 0x61, 0x35, 0x57, 0xb9, 0x86, 0xc1, 0x1d, 0x9e],\n",
        "            [0xe1, 0xf8, 0x98, 0x11, 0x69, 0xd9, 0x8e, 0x94, 0x9b, 0x1e, 0x87, 0xe9, 0xce, 0x55, 0x28, 0xdf],\n",
        "            [0x8c, 0xa1, 0x89, 0x0d, 0xbf, 0xe6, 0x42, 0x68, 0x41, 0x99, 0x2d, 0x0f, 0xb0, 0x54, 0xbb, 0x16]\n",
        "            ]\n",
        "    elif(mode == 'D'):\n",
        "        sbox = [\n",
        "            [0x52, 0x09, 0x6A, 0xD5, 0x30, 0x36, 0xA5, 0x38, 0xBF, 0x40, 0xA3, 0x9E, 0x81, 0xF3, 0xD7, 0xFB],\n",
        "            [0x7C, 0xE3, 0x39, 0x82, 0x9B, 0x2F, 0xFF, 0x87, 0x34, 0x8E, 0x43, 0x44, 0xC4, 0xDE, 0xE9, 0xCB],\n",
        "            [0x54, 0x7B, 0x94, 0x32, 0xA6, 0xC2, 0x23, 0x3D, 0xEE, 0x4C, 0x95, 0x0B, 0x42, 0xFA, 0xC3, 0x4E],\n",
        "            [0x08, 0x2E, 0xA1, 0x66, 0x28, 0xD9, 0x24, 0xB2, 0x76, 0x5B, 0xA2, 0x49, 0x6D, 0x8B, 0xD1, 0x25],\n",
        "            [0x72, 0xF8, 0xF6, 0x64, 0x86, 0x68, 0x98, 0x16, 0xD4, 0xA4, 0x5C, 0xCC, 0x5D, 0x65, 0xB6, 0x92],\n",
        "            [0x6C, 0x70, 0x48, 0x50, 0xFD, 0xED, 0xB9, 0xDA, 0x5E, 0x15, 0x46, 0x57, 0xA7, 0x8D, 0x9D, 0x84],\n",
        "            [0x90, 0xD8, 0xAB, 0x00, 0x8C, 0xBC, 0xD3, 0x0A, 0xF7, 0xE4, 0x58, 0x05, 0xB8, 0xB3, 0x45, 0x06],\n",
        "            [0xD0, 0x2C, 0x1E, 0x8F, 0xCA, 0x3F, 0x0F, 0x02, 0xC1, 0xAF, 0xBD, 0x03, 0x01, 0x13, 0x8A, 0x6B],\n",
        "            [0x3A, 0x91, 0x11, 0x41, 0x4F, 0x67, 0xDC, 0xEA, 0x97, 0xF2, 0xCF, 0xCE, 0xF0, 0xB4, 0xE6, 0x73],\n",
        "            [0x96, 0xAC, 0x74, 0x22, 0xE7, 0xAD, 0x35, 0x85, 0xE2, 0xF9, 0x37, 0xE8, 0x1C, 0x75, 0xDF, 0x6E],\n",
        "            [0x47, 0xF1, 0x1A, 0x71, 0x1D, 0x29, 0xC5, 0x89, 0x6F, 0xB7, 0x62, 0x0E, 0xAA, 0x18, 0xBE, 0x1B],\n",
        "            [0xFC, 0x56, 0x3E, 0x4B, 0xC6, 0xD2, 0x79, 0x20, 0x9A, 0xDB, 0xC0, 0xFE, 0x78, 0xCD, 0x5A, 0xF4],\n",
        "            [0x1F, 0xDD, 0xA8, 0x33, 0x88, 0x07, 0xC7, 0x31, 0xB1, 0x12, 0x10, 0x59, 0x27, 0x80, 0xEC, 0x5F],\n",
        "            [0x60, 0x51, 0x7F, 0xA9, 0x19, 0xB5, 0x4A, 0x0D, 0x2D, 0xE5, 0x7A, 0x9F, 0x93, 0xC9, 0x9C, 0xEF],\n",
        "            [0xA0, 0xE0, 0x3B, 0x4D, 0xAE, 0x2A, 0xF5, 0xB0, 0xC8, 0xEB, 0xBB, 0x3C, 0x83, 0x53, 0x99, 0x61],\n",
        "            [0x17, 0x2B, 0x04, 0x7E, 0xBA, 0x77, 0xD6, 0x26, 0xE1, 0x69, 0x14, 0x63, 0x55, 0x21, 0x0C, 0x7D]\n",
        "            ]\n",
        "    \n",
        "    s_state_matrix = ''\n",
        "    if(type(state_matrix) is not str):\n",
        "        R,C = 4 , 4\n",
        "        s_state_matrix = np.zeros((R,C) , dtype = np.chararray)\n",
        "        for i in range(R):\n",
        "            for j in range(C):\n",
        "                position = state_matrix[i][j]\n",
        "\n",
        "                hex_element = str(hex(sbox[int(position[0],16)][int(position[1],16)])).replace('0x' , '')  #sbox gets positions in the horizental and vertical axis\n",
        "                if(len(hex_element) == 1):\n",
        "                    hex_element = '0' + hex_element\n",
        "                s_state_matrix[i][j] = hex_element ##output matrix\n",
        "        \n",
        "\n",
        "    else:       \n",
        "\n",
        "        for i in range(0 , len(state_matrix)-1 , 2):\n",
        "            hex_element = str(hex(sbox[int(state_matrix[i],16)][int(state_matrix[i+1],16)])).replace('0x' , '') #sbox gets positions in the horizental and vertical axis\n",
        "            if(len(hex_element) == 1):\n",
        "                hex_element = '0' + hex_element\n",
        "            s_state_matrix += hex_element #output string\n",
        "\n",
        "    return s_state_matrix\n",
        "\n",
        "\n",
        "# In[16]:\n",
        "\n",
        "\n",
        "#function for add round key layer in AES\n",
        "#get input Matrix and key \n",
        "#output matrix\n",
        "def Add_Round_Key(input_matrix , key):\n",
        "    R,C = 4,4\n",
        "    output_matrix = np.zeros((R,C) , dtype = np.chararray)\n",
        "\n",
        "    for j in range(C):\n",
        "        output_column = HEX_Column_To_String(input_matrix[:,j]) #convert hexadecimal column to string\n",
        "        result_column = add_zero(HEX_XOR(output_column , key[j])) #Xor state column with key column\n",
        "        position = 0\n",
        "        for i in range(R):\n",
        "            output_matrix[i][j] = result_column[position:position+2] #reconstruct the matrix\n",
        "            position += 2\n",
        "      \n",
        "    return output_matrix     \n",
        "\n",
        "\n",
        "# In[17]:\n",
        "\n",
        "\n",
        "#function to do the mix cloumns layer in AES using two operations Galois field multiplication and the XOR operation\n",
        "#gets input matrix and mode (E or D)\n",
        "#output updated mixed matrix\n",
        "\n",
        "def Mix_Columns(state_matrix , mode):\n",
        "    R,C = state_matrix.shape\n",
        "    #check if mode is E or D\n",
        "    if(mode == 'E'):\n",
        "        matrix = [['02','03','01','01'],\n",
        "            ['01','02','03','01'],\n",
        "            ['01','01','02','03'],\n",
        "            ['03','01','01','02']]\n",
        "        \n",
        "    elif(mode == 'D'):\n",
        "        matrix = [['0e','0b','0d','09'],\n",
        "            ['09','0e','0b','0d'],\n",
        "            ['0d','09','0e','0b'],\n",
        "            ['0b','0d','09','0e']]\n",
        "    \n",
        "    output_mix_matrix = np.zeros((R,C) , dtype = np.chararray)\n",
        "    result = []\n",
        "    \n",
        "    #iterate over the columns and the raws\n",
        "    for i in range(R):\n",
        "        for j in range(C):\n",
        "            xor_result = '00'\n",
        "            for k in range(R):\n",
        "                result = GF_Mul(state_matrix[k][j] , matrix[i][k]) #Do the Galois field multiplication\n",
        "                xor_result = HEX_XOR(xor_result , result) #XOR the result to sum the result of all elements \n",
        "                        \n",
        "            output_mix_matrix[i][j] = xor_result\n",
        "            \n",
        "    return output_mix_matrix\n",
        "\n",
        "\n",
        "'''\n",
        "Function for AES-256 Encryption & Decryption\n",
        "Parameters:\n",
        "    plain_text\n",
        "    key\n",
        "    mode (E for Encryption, D for Decryption)\n",
        "Returns:\n",
        "    cipher_text or plain_text\n",
        "'''\n",
        "def AES_256_ECB(message , key , mode):\n",
        "    #Convert message to matrix\n",
        "    state_matrix = Convert_to_Matrix(message)\n",
        "    #do key expansion\n",
        "    expanded_key = Key_Expand_256(key)\n",
        " \n",
        "    #check if mode is E\n",
        "    if(mode == 'E'):\n",
        "        #First thing to do is Add_Round_Key layer\n",
        "        round_input = Add_Round_Key(state_matrix , expanded_key[0:4]) #intial round key\n",
        "        position = 4\n",
        "        #iterate over the four layers for 14 rounds\n",
        "        for i in range(14):\n",
        "            #substituion layer\n",
        "            step1 = Sub_Byte(round_input , mode) \n",
        "            #shift rows layer\n",
        "            step2 = Shift_Rows(step1 , mode)   \n",
        "            #at the final round, mix columns is skipped\n",
        "            if(i != 13):\n",
        "                #mix columns layer\n",
        "                step3 = Mix_Columns(step2 , mode) \n",
        "                #add round key layer\n",
        "                step4 = Add_Round_Key(step3 , expanded_key[position:position+4]) \n",
        "                position += 4\n",
        "                round_input = step4\n",
        "            else:\n",
        "                #final add round key\n",
        "                cipher_text = Add_Round_Key(step2 , expanded_key[position:position+4]) \n",
        "        return cipher_text\n",
        "    \n",
        "    #if mode is D, do decryption\n",
        "    elif(mode == 'D'):\n",
        "        #do Add_Round_Key layer\n",
        "        round_input = Add_Round_Key(state_matrix , expanded_key[56:60])\n",
        "        position = 52\n",
        "        #iterate over the four layers for 14 rounds\n",
        "        for i in range(14):\n",
        "            #shift rows layer\n",
        "            step1 = Shift_Rows(round_input , mode) \n",
        "            #substituion layer\n",
        "            step2 = Sub_Byte(step1 , mode)  \n",
        "            #at the final round, mix columns is skipped\n",
        "            if(i != 13):\n",
        "                #add round key layer\n",
        "                step3 = Add_Round_Key(step2 , expanded_key[position:position+4]) \n",
        "                #mix columns layer\n",
        "                step4 = Mix_Columns(step3 , mode) \n",
        "                position -= 4\n",
        "                round_input = step4\n",
        "            else:\n",
        "                #final round key layer\n",
        "                plain_text = Add_Round_Key(step2 , expanded_key[position:position+4]) \n",
        "        return plain_text"
      ],
      "execution_count": 1,
      "outputs": []
    },
    {
      "cell_type": "code",
      "source": [
        "#function to make the XOR between Hexadecimal numbers\n",
        "#takes two hexa numbers and output the result\n",
        "def HEX_XOR(A , B):\n",
        "    x =  str(A) #add 0x before every input\n",
        "    y =  str(B)\n",
        "    \n",
        "    q = int(x , 16)\n",
        "    p = int(y , 16)\n",
        "\n",
        "    result = hex(q ^ p) #do the XOR\n",
        "    result = result.replace('0x' , '')\n",
        "    #check if there the result is only one element, add zero\n",
        "    if(len(result) < len(A)):\n",
        "        for i in range(len(A)-len(result)):\n",
        "            result = '0'+ result\n",
        "                \n",
        "    return result"
      ],
      "metadata": {
        "id": "mN5nUlLtJHIK"
      },
      "execution_count": 2,
      "outputs": []
    },
    {
      "cell_type": "code",
      "source": [
        "'''\n",
        "Helper function to split input string into blocks\n",
        "Parameters:\n",
        "  input string\n",
        "Returns:\n",
        "  blocks\n",
        "'''\n",
        "def get_string_blocks(stringg):\n",
        "  #get length of string\n",
        "  length = len(stringg)\n",
        "  #get number of blocks\n",
        "  blocks_number = length / 32\n",
        "  #initialize empty list to hold the blocks\n",
        "  blocks = []\n",
        "  #iterate over the number of blocks\n",
        "  for i in range(int(blocks_number)):\n",
        "    #divide the string into blocks of size 32\n",
        "    blocks.append(stringg[32*i: 32*(i+1)] )\n",
        "  #return the blocks\n",
        "  return blocks\n"
      ],
      "metadata": {
        "id": "hT6q2q8BJgAz"
      },
      "execution_count": 3,
      "outputs": []
    },
    {
      "cell_type": "code",
      "source": [
        "'''\n",
        "Function Name: Matrix_To_String\n",
        "  Convert input matrix to string\n",
        "Parameters:\n",
        "  input matrix\n",
        "Returns:\n",
        "  String containing the elements of the input matrix\n",
        "'''\n",
        "def Matrix_To_String(matrix):\n",
        "    #gets size of matrix\n",
        "    R = len(matrix)\n",
        "    C = len(matrix[0])\n",
        "\n",
        "    #iniztilize empty string\n",
        "    string = '' \n",
        "    \n",
        "    #iterate over the rows and the coloumns\n",
        "    for j in range(C):\n",
        "        for i in range(R):\n",
        "            #add every element of the matrix to the string\n",
        "            string += matrix[i][j] \n",
        "    \n",
        "    #return string\n",
        "    return string"
      ],
      "metadata": {
        "id": "DOYWoVOQJrRJ"
      },
      "execution_count": 4,
      "outputs": []
    },
    {
      "cell_type": "markdown",
      "source": [
        "## CTR Mode"
      ],
      "metadata": {
        "id": "iDViEfk_WNJO"
      }
    },
    {
      "cell_type": "code",
      "source": [
        "pip install pycrypto"
      ],
      "metadata": {
        "colab": {
          "base_uri": "https://localhost:8080/"
        },
        "id": "PwEO-1v4cwNq",
        "outputId": "45ad97e5-167b-42b0-9327-90469bd69d77"
      },
      "execution_count": 5,
      "outputs": [
        {
          "output_type": "stream",
          "name": "stdout",
          "text": [
            "Requirement already satisfied: pycrypto in /usr/local/lib/python3.7/dist-packages (2.6.1)\n"
          ]
        }
      ]
    },
    {
      "cell_type": "code",
      "source": [
        "from datetime import datetime\n",
        "from Crypto.Cipher import AES"
      ],
      "metadata": {
        "id": "GSFmR4kmX4Xv"
      },
      "execution_count": 6,
      "outputs": []
    },
    {
      "cell_type": "markdown",
      "source": [
        "#### CTR 256 Parallized"
      ],
      "metadata": {
        "id": "N-_M6bLvoxDw"
      }
    },
    {
      "cell_type": "code",
      "source": [
        "def encrypt_block_CTR(plaintext, key, iv):\n",
        "    \"\"\"\n",
        "     function to implement block AES-256 for encryption for CTR Mode.\n",
        "     Parameters: plaintext, key, iv (initialization vector)\n",
        "     Returns: encrypted message\n",
        "    \"\"\"\n",
        "    \n",
        "    plaintext_len = len(plaintext)\n",
        "    ## Zero padding for the text to be multiples of 128\n",
        "    remainder = plaintext_len % 32\n",
        "    if remainder != 0:\n",
        "      width = plaintext_len + (32 - remainder)\n",
        "      plaintext = plaintext.ljust(width,\"0\")\n",
        "\n",
        "    # Divide the plaintext into blocks\n",
        "    blocks = get_string_blocks(plaintext)\n",
        "\n",
        "    # Intialize counter with iv \n",
        "    counter = []\n",
        "    for i in range(len(blocks)):\n",
        "      # Do encryption for every counter block using the function AES_256_ECB\n",
        "      #encryptor = AES.new(key, AES.MODE_ECB)\n",
        "      result = AES_256_ECB(iv,key,mode=\"E\")\n",
        "      #result = encryptor.encrypt(iv)\n",
        "      counter.append(Matrix_To_String(result))\n",
        "      #counter.append(result.hex())\n",
        "      # Increment the counter by 1\n",
        "      c = int(iv, base = 16)\n",
        "      iv = hex(c+1)\n",
        "\n",
        "    encrypted_blocks = []\n",
        "    # Iterate over every block\n",
        "    for i, block in enumerate(blocks):\n",
        "        #do XOR between the hexadicimal blcok and initialization vector\n",
        "        xor_result = HEX_XOR(block,counter[i])\n",
        "        #append the result to the list encrypted_blocks\n",
        "        encrypted_blocks.append(xor_result)\n",
        "\n",
        "    cipher = \"\".join(encrypted_blocks)\n",
        "    #return the encrypted_blocks\n",
        "    return cipher[: plaintext_len]\n"
      ],
      "metadata": {
        "id": "yhdveMc3WLem"
      },
      "execution_count": 7,
      "outputs": []
    },
    {
      "cell_type": "code",
      "source": [
        "def decrypt_block_CTR(ciphertext, key, iv):\n",
        "    \"\"\"\n",
        "     function to implement block AES-256 for decryption for CTR Mode.\n",
        "     Parameters: ciphertext, key, iv (initialization vector)\n",
        "     Returns: decrypted message\n",
        "    \"\"\"\n",
        "    ciphertext_len = len(ciphertext)\n",
        "    ## Zero padding for the text to be multiples of 128\n",
        "    remainder = ciphertext_len % 32\n",
        "    if remainder != 0:\n",
        "      width = ciphertext_len + (32 - remainder)\n",
        "      ciphertext = ciphertext.ljust(width,\"0\")\n",
        "    \n",
        "    # Divide the ciphertext into blocks\n",
        "    blocks = get_string_blocks(ciphertext)\n",
        "    \n",
        "    # Intialize counter with iv \n",
        "    counter = []\n",
        "    for i in range(len(blocks)):\n",
        "      # Do encryption for every counter block using the function AES_256_ECB\n",
        "      result = AES_256_ECB(iv,key,mode=\"E\")\n",
        "      counter.append(Matrix_To_String(result))\n",
        "      # Increment the counter by 1\n",
        "      c = int(iv, base = 16)\n",
        "      iv = hex(c+1)\n",
        "\n",
        "    decrypted_blocks = []\n",
        "    # Iterate over every block\n",
        "    for i, block in enumerate(blocks):\n",
        "        #do XOR between the hexadicimal blcok and initialization vector\n",
        "        xor_result = HEX_XOR(block,counter[i])\n",
        "        #append the result to the list decrypted_blocks\n",
        "        decrypted_blocks.append(xor_result)\n",
        "\n",
        "    plaintext = \"\".join(decrypted_blocks)\n",
        "    #return the decrypted_blocks\n",
        "    return plaintext[: ciphertext_len]\n"
      ],
      "metadata": {
        "id": "-mjraPs0fG-a"
      },
      "execution_count": 8,
      "outputs": []
    },
    {
      "cell_type": "markdown",
      "source": [
        "#### CTR 256 Ordinary"
      ],
      "metadata": {
        "id": "2mWiJz5Em2nO"
      }
    },
    {
      "cell_type": "code",
      "source": [
        "def encrypt_block_CTR_ordinary(plaintext, key, iv):\n",
        "    \"\"\"\n",
        "     function to implement block AES-256 for encryption for CTR Mode.\n",
        "     Parameters: plaintext, key, iv (initialization vector)\n",
        "     Returns: encrypted message\n",
        "    \"\"\"\n",
        "    \n",
        "    plaintext_len = len(plaintext)\n",
        "    ## Zero padding for the text to be multiples of 128\n",
        "    remainder = plaintext_len % 32\n",
        "    if remainder != 0:\n",
        "      width = plaintext_len + (32 - remainder)\n",
        "      plaintext = plaintext.ljust(width,\"0\")\n",
        "\n",
        "    # Divide the plaintext into blocks\n",
        "    blocks = get_string_blocks(plaintext)\n",
        "\n",
        "    encrypted_blocks = []\n",
        "    # Iterate over every block\n",
        "    for i, block in enumerate(blocks):\n",
        "        # Do encryption for every counter block using the function AES_256_ECB\n",
        "        result = AES_256_ECB(iv,key,mode=\"E\")\n",
        "        counter = Matrix_To_String(result)\n",
        "        #do XOR between the hexadicimal blcok and initialization vector\n",
        "        xor_result = HEX_XOR(block,counter)\n",
        "        #append the result to the list encrypted_blocks\n",
        "        encrypted_blocks.append(xor_result)\n",
        "        # Increment the counter by 1\n",
        "        c = int(iv, base = 16)\n",
        "        iv = hex(c+1)\n",
        "\n",
        "    cipher = \"\".join(encrypted_blocks)\n",
        "    #return the encrypted_blocks\n",
        "    return cipher[: plaintext_len]\n"
      ],
      "metadata": {
        "id": "LHmBn5lkm42u"
      },
      "execution_count": 9,
      "outputs": []
    },
    {
      "cell_type": "code",
      "source": [
        "def decrypt_block_CTR_ordinary(ciphertext, key, iv):\n",
        "    \"\"\"\n",
        "     function to implement block AES-256 for decryption for CTR Mode.\n",
        "     Parameters: ciphertext, key, iv (initialization vector)\n",
        "     Returns: decrypted message\n",
        "    \"\"\"\n",
        "    ciphertext_len = len(ciphertext)\n",
        "    ## Zero padding for the text to be multiples of 128\n",
        "    remainder = ciphertext_len % 32\n",
        "    if remainder != 0:\n",
        "      width = ciphertext_len + (32 - remainder)\n",
        "      ciphertext = ciphertext.ljust(width,\"0\")\n",
        "    \n",
        "    # Divide the ciphertext into blocks\n",
        "    blocks = get_string_blocks(ciphertext)\n",
        "    \n",
        "    decrypted_blocks = []\n",
        "    # Iterate over every block\n",
        "    for i, block in enumerate(blocks):\n",
        "        # Do encryption for every counter block using the function AES_256_ECB\n",
        "        result = AES_256_ECB(iv,key,mode=\"E\")\n",
        "        counter = Matrix_To_String(result)\n",
        "        #do XOR between the hexadicimal blcok and initialization vector\n",
        "        xor_result = HEX_XOR(block,counter)\n",
        "        #append the result to the list decrypted_blocks\n",
        "        decrypted_blocks.append(xor_result)\n",
        "        # Increment the counter by 1\n",
        "        c = int(iv, base = 16)\n",
        "        iv = hex(c+1)\n",
        "\n",
        "    plaintext = \"\".join(decrypted_blocks)\n",
        "    #return the decrypted_blocks\n",
        "    return plaintext[: ciphertext_len]\n"
      ],
      "metadata": {
        "id": "AZBe4Trfn7oa"
      },
      "execution_count": 10,
      "outputs": []
    },
    {
      "cell_type": "markdown",
      "source": [
        "#### CTR 128"
      ],
      "metadata": {
        "id": "ffZ05lTLTNj8"
      }
    },
    {
      "cell_type": "code",
      "source": [
        "def encrypt_block_CTR_128(plaintext, key, iv):\n",
        "    \"\"\"\n",
        "     function to implement block AES-128 for encryption for CTR Mode.\n",
        "     Parameters: plaintext, key, iv (initialization vector)\n",
        "     Returns: encrypted message\n",
        "    \"\"\"\n",
        "    \n",
        "    plaintext_len = len(plaintext)\n",
        "    ## Zero padding for the text to be multiples of 128\n",
        "    remainder = plaintext_len % 32\n",
        "    if remainder != 0:\n",
        "      width = plaintext_len + (32 - remainder)\n",
        "      plaintext = plaintext.ljust(width,\"0\")\n",
        "\n",
        "    # Divide the plaintext into blocks\n",
        "    blocks = get_string_blocks(plaintext)\n",
        "\n",
        "    # Intialize counter with iv \n",
        "    counter = []\n",
        "    for i in range(len(blocks)):\n",
        "      iv_len = len(iv)\n",
        "      # Do encryption for every counter block using the function AES_128\n",
        "      # Convert the key  from hex to bytes\n",
        "      key_byte = bytes.fromhex(key)\n",
        "      encryptor = AES.new(key_byte, AES.MODE_ECB)\n",
        "      #convert the counter from hex to bytes\n",
        "      iv_bytes = bytes.fromhex(iv)\n",
        "      # Encrypt the counter\n",
        "      result = encryptor.encrypt(iv_bytes)\n",
        "      counter.append(result.hex())\n",
        "      # Increment the counter by 1\n",
        "      c = int(iv, base = 16)\n",
        "      iv = hex(c+1)\n",
        "      iv = iv.replace('0x' , '')\n",
        "      #check if there the result is only one element, add zero\n",
        "      if(len(iv) < iv_len):\n",
        "        for i in range(iv_len-len(iv)):\n",
        "           iv = '0'+ iv\n",
        "                \n",
        "\n",
        "    encrypted_blocks = []\n",
        "    # Iterate over every block\n",
        "    for i, block in enumerate(blocks):\n",
        "        #do XOR between the hexadicimal blcok and initialization vector\n",
        "        xor_result = HEX_XOR(block,counter[i])\n",
        "        #append the result to the list encrypted_blocks\n",
        "        encrypted_blocks.append(xor_result)\n",
        "\n",
        "    cipher = \"\".join(encrypted_blocks)\n",
        "    #return the encrypted_blocks\n",
        "    return cipher[: plaintext_len]\n"
      ],
      "metadata": {
        "id": "AF8U-8z0TPbh"
      },
      "execution_count": 11,
      "outputs": []
    },
    {
      "cell_type": "code",
      "source": [
        "def decrypt_block_CTR_128(ciphertext, key, iv):\n",
        "    \"\"\"\n",
        "     function to implement block AES-256 for decryption for CTR Mode.\n",
        "     Parameters: ciphertext, key, iv (initialization vector)\n",
        "     Returns: decrypted message\n",
        "    \"\"\"\n",
        "    ciphertext_len = len(ciphertext)\n",
        "    ## Zero padding for the text to be multiples of 128\n",
        "    remainder = ciphertext_len % 32\n",
        "    if remainder != 0:\n",
        "      width = ciphertext_len + (32 - remainder)\n",
        "      ciphertext = ciphertext.ljust(width,\"0\")\n",
        "    \n",
        "    # Divide the ciphertext into blocks\n",
        "    blocks = get_string_blocks(ciphertext)\n",
        "    \n",
        "    # Intialize counter with iv \n",
        "    counter = []\n",
        "    for i in range(len(blocks)):\n",
        "      iv_len = len(iv)\n",
        "      # Do encryption for every counter block using the function AES_128\n",
        "       # Convert the key  from hex to bytes\n",
        "      key_byte = bytes.fromhex(key)\n",
        "      encryptor = AES.new(key_byte, AES.MODE_ECB)\n",
        "      #convert the counter from hex to bytes\n",
        "      iv_bytes = bytes.fromhex(iv)\n",
        "      # Encrypt the counter\n",
        "      result = encryptor.encrypt(iv_bytes)\n",
        "      counter.append(result.hex())\n",
        "      # Increment the counter by 1\n",
        "      c = int(iv, base = 16)\n",
        "      iv = hex(c+1)\n",
        "      iv = iv.replace('0x' , '')\n",
        "      #check if there the result is only one element, add zero\n",
        "      if(len(iv) < iv_len):\n",
        "        for i in range(iv_len-len(iv)):\n",
        "           iv = '0'+ iv\n",
        "                \n",
        "\n",
        "    decrypted_blocks = []\n",
        "    # Iterate over every block\n",
        "    for i, block in enumerate(blocks):\n",
        "        #do XOR between the hexadicimal blcok and initialization vector\n",
        "        xor_result = HEX_XOR(block,counter[i])\n",
        "        #append the result to the list decrypted_blocks\n",
        "        decrypted_blocks.append(xor_result)\n",
        "\n",
        "    plaintext = \"\".join(decrypted_blocks)\n",
        "    #return the decrypted_blocks\n",
        "    return plaintext[: ciphertext_len]\n"
      ],
      "metadata": {
        "id": "SBBUYTU6Tr3L"
      },
      "execution_count": 12,
      "outputs": []
    },
    {
      "cell_type": "markdown",
      "source": [
        "### Testing AES-128-CTR"
      ],
      "metadata": {
        "id": "yJsn3Hq0atz5"
      }
    },
    {
      "cell_type": "markdown",
      "source": [
        "##### Single block"
      ],
      "metadata": {
        "id": "yE4sntOqaxKP"
      }
    },
    {
      "cell_type": "code",
      "source": [
        "start_time = datetime.now()\n",
        "output = encrypt_block_CTR_128(\"53696E676C6520626C6F636B206D7367\",\"AE6852F8121067CC4BF7A5765577F39E\", \"00000030000000000000000000000001\")\n",
        "end_time = datetime.now()\n",
        "total_time = end_time - start_time\n",
        "print(\"The ciphertext: \" ,output)\n",
        "print('time total: {}'.format(total_time))"
      ],
      "metadata": {
        "colab": {
          "base_uri": "https://localhost:8080/"
        },
        "id": "8TjhbPu0a1_x",
        "outputId": "98e5fea4-ddbc-41a3-f535-dfbaf4eec3fc"
      },
      "execution_count": 13,
      "outputs": [
        {
          "output_type": "stream",
          "name": "stdout",
          "text": [
            "The ciphertext:  e4095d4fb7a7b3792d6175a3261311b8\n",
            "time total: 0:00:00.000205\n"
          ]
        }
      ]
    },
    {
      "cell_type": "code",
      "source": [
        "start_time = datetime.now()\n",
        "output = decrypt_block_CTR_128(\"e4095d4fb7a7b3792d6175a3261311b8\",\"AE6852F8121067CC4BF7A5765577F39E\", \"00000030000000000000000000000001\")\n",
        "end_time = datetime.now()\n",
        "total_time = end_time - start_time\n",
        "print(\"The decrypted: \" ,output)\n",
        "print('time total: {}'.format(total_time))"
      ],
      "metadata": {
        "id": "VPuqpmnAcIs3",
        "colab": {
          "base_uri": "https://localhost:8080/"
        },
        "outputId": "733f66c5-69ce-4295-8789-553717d506f5"
      },
      "execution_count": 14,
      "outputs": [
        {
          "output_type": "stream",
          "name": "stdout",
          "text": [
            "The decrypted:  53696e676c6520626c6f636b206d7367\n",
            "time total: 0:00:00.000221\n"
          ]
        }
      ]
    },
    {
      "cell_type": "markdown",
      "source": [
        "##### Multiple blocks"
      ],
      "metadata": {
        "id": "NM0UnRyP7lsq"
      }
    },
    {
      "cell_type": "code",
      "source": [
        "start_time = datetime.now()\n",
        "output = encrypt_block_CTR_128(\"000102030405060708090A0B0C0D0E0F101112131415161718191A1B1C1D1E1F20212223\",\"7691BE035E5020A8AC6E618529F9A0DC\", \"00E0017B27777F3F4A1786F000000001\")\n",
        "end_time = datetime.now()\n",
        "total_time = end_time - start_time\n",
        "print(\"The ciphertext: \" ,output)\n",
        "print('time total: {}'.format(total_time))"
      ],
      "metadata": {
        "colab": {
          "base_uri": "https://localhost:8080/"
        },
        "id": "rYom1N2S7oEo",
        "outputId": "804dd140-4cb0-4002-b713-cdf4822a8fd7"
      },
      "execution_count": 15,
      "outputs": [
        {
          "output_type": "stream",
          "name": "stdout",
          "text": [
            "The ciphertext:  c1cf48a89f2ffdd9cf4652e9efdb72d74540a42bde6d7836d59a5ceaaef3105325b2072f\n",
            "time total: 0:00:00.001065\n"
          ]
        }
      ]
    },
    {
      "cell_type": "code",
      "source": [
        "start_time = datetime.now()\n",
        "output = decrypt_block_CTR_128(\"c1cf48a89f2ffdd9cf4652e9efdb72d74540a42bde6d7836d59a5ceaaef3105325b2072f\",\"7691BE035E5020A8AC6E618529F9A0DC\", \"00E0017B27777F3F4A1786F000000001\")\n",
        "end_time = datetime.now()\n",
        "total_time = end_time - start_time\n",
        "print(\"The decrypted: \" ,output)\n",
        "print('time total: {}'.format(total_time))"
      ],
      "metadata": {
        "colab": {
          "base_uri": "https://localhost:8080/"
        },
        "id": "hBXfPS5X7rQA",
        "outputId": "83c729c8-0ac5-4c12-c03c-1eaefef02f3a"
      },
      "execution_count": 16,
      "outputs": [
        {
          "output_type": "stream",
          "name": "stdout",
          "text": [
            "The decrypted:  000102030405060708090a0b0c0d0e0f101112131415161718191a1b1c1d1e1f20212223\n",
            "time total: 0:00:00.000221\n"
          ]
        }
      ]
    },
    {
      "cell_type": "markdown",
      "source": [
        "### Testing AES-256-CTR "
      ],
      "metadata": {
        "id": "y0Y4r8XGOmFw"
      }
    },
    {
      "cell_type": "markdown",
      "source": [
        "##### Single block Parallized"
      ],
      "metadata": {
        "id": "bskT0YDLOtnR"
      }
    },
    {
      "cell_type": "code",
      "source": [
        "Key= \"F6D66D6BD52D59BB0796365879EFF886C66DD51A5B6A99744B50590C87A23884\"\n",
        "ctr1 = \"00FAAC24C1585EF15A43D87500000001\"\n",
        "plaintext =\"000102030405060708090A0B0C0D0E0F101112131415161718191A1B1C1D1E1F\"\n",
        "#ciphertext:F05E231B3894612C49EE000B804EB2A9B8306B508F839D6A5530831D9344AF1C\""
      ],
      "metadata": {
        "id": "ykGLzsurdTAa"
      },
      "execution_count": 17,
      "outputs": []
    },
    {
      "cell_type": "code",
      "source": [
        "start_time = datetime.now()\n",
        "output = encrypt_block_CTR(plaintext,Key, ctr1)\n",
        "end_time = datetime.now()\n",
        "total_time = end_time - start_time\n",
        "print(\"The ciphertext: \" ,output)\n",
        "print('time total: {}'.format(total_time))"
      ],
      "metadata": {
        "colab": {
          "base_uri": "https://localhost:8080/"
        },
        "id": "8WtIl2c3dhz5",
        "outputId": "2cb8f4bf-886d-4f66-af00-cd6a27630dba"
      },
      "execution_count": 18,
      "outputs": [
        {
          "output_type": "stream",
          "name": "stdout",
          "text": [
            "The ciphertext:  f05e231b3894612c49ee000b804eb2a9b8306b508f839d6a5530831d9344af1c\n",
            "time total: 0:00:00.021854\n"
          ]
        }
      ]
    },
    {
      "cell_type": "code",
      "source": [
        "start_time = datetime.now()\n",
        "output = encrypt_block_CTR(\"53696E676C6520626C6F636B206D7367\",\"776BEFF2851DB06F4C8A0542C8696F6C6A81AF1EEC96B4D37FC1D689E6C1C104\", \"00000060DB5672C97AA8F0B200000001\")\n",
        "end_time = datetime.now()\n",
        "total_time = end_time - start_time\n",
        "print(\"The ciphertext: \" ,output)\n",
        "print('time total: {}'.format(total_time))"
      ],
      "metadata": {
        "colab": {
          "base_uri": "https://localhost:8080/"
        },
        "id": "oy3_Kt4mevio",
        "outputId": "0f4ce208-c309-4721-8842-934e3398f45f"
      },
      "execution_count": 19,
      "outputs": [
        {
          "output_type": "stream",
          "name": "stdout",
          "text": [
            "The ciphertext:  145ad01dbf824ec7560863dc71e3e0c0\n",
            "time total: 0:00:00.010325\n"
          ]
        }
      ]
    },
    {
      "cell_type": "code",
      "source": [
        "start_time = datetime.now()\n",
        "output = decrypt_block_CTR(\"145ad01dbf824ec7560863dc71e3e0c0\",\"776BEFF2851DB06F4C8A0542C8696F6C6A81AF1EEC96B4D37FC1D689E6C1C104\", \"00000060DB5672C97AA8F0B200000001\")\n",
        "end_time = datetime.now()\n",
        "total_time = end_time - start_time\n",
        "print(\"The decrypted: \" ,output)\n",
        "print('time total: {}'.format(total_time))"
      ],
      "metadata": {
        "colab": {
          "base_uri": "https://localhost:8080/"
        },
        "id": "dN1icrX3gVKr",
        "outputId": "18ebf190-00e1-473f-b760-6e96c4b1a811"
      },
      "execution_count": 20,
      "outputs": [
        {
          "output_type": "stream",
          "name": "stdout",
          "text": [
            "The decrypted:  53696e676c6520626c6f636b206d7367\n",
            "time total: 0:00:00.014672\n"
          ]
        }
      ]
    },
    {
      "cell_type": "markdown",
      "source": [
        "##### Single block Ordinary"
      ],
      "metadata": {
        "id": "0rRRWmSonomm"
      }
    },
    {
      "cell_type": "code",
      "source": [
        "start_time = datetime.now()\n",
        "output = encrypt_block_CTR_ordinary(\"53696E676C6520626C6F636B206D7367\",\"776BEFF2851DB06F4C8A0542C8696F6C6A81AF1EEC96B4D37FC1D689E6C1C104\", \"00000060DB5672C97AA8F0B200000001\")\n",
        "end_time = datetime.now()\n",
        "total_time = end_time - start_time\n",
        "print(\"The ciphertext: \" ,output)\n",
        "print('time total: {}'.format(total_time))"
      ],
      "metadata": {
        "colab": {
          "base_uri": "https://localhost:8080/"
        },
        "id": "sgAawwf1ntkT",
        "outputId": "188090ea-37f2-4f5d-b136-051e15138ca1"
      },
      "execution_count": 21,
      "outputs": [
        {
          "output_type": "stream",
          "name": "stdout",
          "text": [
            "The ciphertext:  145ad01dbf824ec7560863dc71e3e0c0\n",
            "time total: 0:00:00.009712\n"
          ]
        }
      ]
    },
    {
      "cell_type": "code",
      "source": [
        "start_time = datetime.now()\n",
        "output = decrypt_block_CTR_ordinary(\"145ad01dbf824ec7560863dc71e3e0c0\",\"776BEFF2851DB06F4C8A0542C8696F6C6A81AF1EEC96B4D37FC1D689E6C1C104\", \"00000060DB5672C97AA8F0B200000001\")\n",
        "end_time = datetime.now()\n",
        "total_time = end_time - start_time\n",
        "print(\"The decrypted: \" ,output)\n",
        "print('time total: {}'.format(total_time))"
      ],
      "metadata": {
        "colab": {
          "base_uri": "https://localhost:8080/"
        },
        "id": "WFpvrM4on15w",
        "outputId": "9a5fe9b6-57a0-478b-e232-7182635c2c3f"
      },
      "execution_count": 22,
      "outputs": [
        {
          "output_type": "stream",
          "name": "stdout",
          "text": [
            "The decrypted:  53696e676c6520626c6f636b206d7367\n",
            "time total: 0:00:00.010313\n"
          ]
        }
      ]
    },
    {
      "cell_type": "markdown",
      "source": [
        "##### Multiple blocks Parallized"
      ],
      "metadata": {
        "id": "4dYVSAEpPJCF"
      }
    },
    {
      "cell_type": "code",
      "source": [
        "start_time = datetime.now()\n",
        "output = encrypt_block_CTR(\"000102030405060708090A0B0C0D0E0F101112131415161718191A1B1C1D1E1F20212223\",\"FF7A617CE69148E4F1726E2F43581DE2AA62D9F805532EDFF1EED687FB54153D\", \"001CC5B751A51D70A1C1114800000001\")\n",
        "end_time = datetime.now()\n",
        "total_time = end_time - start_time\n",
        "print(\"The ciphertext: \" ,output)\n",
        "print('time total: {}'.format(total_time))"
      ],
      "metadata": {
        "colab": {
          "base_uri": "https://localhost:8080/"
        },
        "id": "x33SzMdGPLPN",
        "outputId": "7ca020ba-a92d-4269-cbb0-7991a7c2abf4"
      },
      "execution_count": 23,
      "outputs": [
        {
          "output_type": "stream",
          "name": "stdout",
          "text": [
            "The ciphertext:  eb6c52821d0bbbf7ce7594462aca4faab407df866569fd07f48cc0b583d6071f1ec0e6b8\n",
            "time total: 0:00:00.027552\n"
          ]
        }
      ]
    },
    {
      "cell_type": "code",
      "source": [
        "start_time = datetime.now()\n",
        "output = decrypt_block_CTR(\"eb6c52821d0bbbf7ce7594462aca4faab407df866569fd07f48cc0b583d6071f1ec0e6b8\",\"FF7A617CE69148E4F1726E2F43581DE2AA62D9F805532EDFF1EED687FB54153D\", \"001CC5B751A51D70A1C1114800000001\")\n",
        "end_time = datetime.now()\n",
        "total_time = end_time - start_time\n",
        "print(\"The decrypted: \" ,output)\n",
        "print('time total: {}'.format(total_time))"
      ],
      "metadata": {
        "colab": {
          "base_uri": "https://localhost:8080/"
        },
        "id": "fH6EG_nRTl6X",
        "outputId": "322f52c5-0416-46fb-e1d8-0852caeecf33"
      },
      "execution_count": 24,
      "outputs": [
        {
          "output_type": "stream",
          "name": "stdout",
          "text": [
            "The decrypted:  000102030405060708090a0b0c0d0e0f101112131415161718191a1b1c1d1e1f20212223\n",
            "time total: 0:00:00.018911\n"
          ]
        }
      ]
    },
    {
      "cell_type": "markdown",
      "source": [
        "##### Multiple blocks ordinary"
      ],
      "metadata": {
        "id": "TmffIcZBoZYf"
      }
    },
    {
      "cell_type": "code",
      "source": [
        "start_time = datetime.now()\n",
        "output = encrypt_block_CTR_ordinary(\"000102030405060708090A0B0C0D0E0F101112131415161718191A1B1C1D1E1F20212223\",\"FF7A617CE69148E4F1726E2F43581DE2AA62D9F805532EDFF1EED687FB54153D\", \"001CC5B751A51D70A1C1114800000001\")\n",
        "end_time = datetime.now()\n",
        "total_time = end_time - start_time\n",
        "print(\"The ciphertext: \" ,output)\n",
        "print('time total: {}'.format(total_time))"
      ],
      "metadata": {
        "colab": {
          "base_uri": "https://localhost:8080/"
        },
        "id": "9liaUI3gocg2",
        "outputId": "f6814a8f-94c1-4a5f-9a7c-7217fe47c3ce"
      },
      "execution_count": 25,
      "outputs": [
        {
          "output_type": "stream",
          "name": "stdout",
          "text": [
            "The ciphertext:  eb6c52821d0bbbf7ce7594462aca4faab407df866569fd07f48cc0b583d6071f1ec0e6b8\n",
            "time total: 0:00:00.023330\n"
          ]
        }
      ]
    },
    {
      "cell_type": "code",
      "source": [
        "start_time = datetime.now()\n",
        "output = decrypt_block_CTR_ordinary(\"eb6c52821d0bbbf7ce7594462aca4faab407df866569fd07f48cc0b583d6071f1ec0e6b8\",\"FF7A617CE69148E4F1726E2F43581DE2AA62D9F805532EDFF1EED687FB54153D\", \"001CC5B751A51D70A1C1114800000001\")\n",
        "end_time = datetime.now()\n",
        "total_time = end_time - start_time\n",
        "print(\"The decrypted: \" ,output)\n",
        "print('time total: {}'.format(total_time))"
      ],
      "metadata": {
        "colab": {
          "base_uri": "https://localhost:8080/"
        },
        "id": "B5gWe-RmoiTx",
        "outputId": "dc0db0b5-0f4e-4238-f739-93b6eacae9e1"
      },
      "execution_count": 26,
      "outputs": [
        {
          "output_type": "stream",
          "name": "stdout",
          "text": [
            "The decrypted:  000102030405060708090a0b0c0d0e0f101112131415161718191a1b1c1d1e1f20212223\n",
            "time total: 0:00:00.024037\n"
          ]
        }
      ]
    },
    {
      "cell_type": "markdown",
      "source": [
        "### GCTR: it is just CTR-128 but with j0 as iv, and it is only on one block"
      ],
      "metadata": {
        "id": "aAPVen9TQJhg"
      }
    },
    {
      "cell_type": "markdown",
      "source": [
        "### GHASH - and its helping functions"
      ],
      "metadata": {
        "id": "NDDnhQoHQZQ-"
      }
    },
    {
      "cell_type": "code",
      "source": [
        "def Hex_to_Binary(hexnum, numbits):\n",
        "  binarySeq = str(bin(int(hexnum, 16))).replace(\"0b\", \"\").zfill(numbits)\n",
        "  binarySeq = [int(char) for char in binarySeq]\n",
        "  binarySeq = binarySeq[::-1]\n",
        "  return binarySeq"
      ],
      "metadata": {
        "id": "5P_MOr-c2JnI"
      },
      "execution_count": 27,
      "outputs": []
    },
    {
      "cell_type": "code",
      "source": [
        "def Binary_to_Hex(binaryseq, numofbits):\n",
        "  rx = [int(abs(num)) for num in binaryseq]\n",
        "  rx = rx + [0]*(numofbits-len(rx))\n",
        "  rx = \"\".join([str(num) for num in rx])\n",
        "  rx = rx[::-1]\n",
        "  rx = hex(int(rx, 2)).replace(\"0x\", \"\")\n",
        "  return rx"
      ],
      "metadata": {
        "id": "8thzq4qmWk0O"
      },
      "execution_count": 28,
      "outputs": []
    },
    {
      "cell_type": "code",
      "source": [
        "def multiply_poly(p1, p2):\n",
        "  res = [0]*(len(p1)+len(p2)-1)\n",
        "  for power1,coeff1 in enumerate(p1):\n",
        "      for power2,coeff2 in enumerate(p2):\n",
        "          res[power1+power2] = (res[power1+power2]+(coeff1*coeff2))%2\n",
        "  return res"
      ],
      "metadata": {
        "id": "RQQXrYqtCJYx"
      },
      "execution_count": 29,
      "outputs": []
    },
    {
      "cell_type": "code",
      "source": [
        "def reduce_polynomial(num, den):\n",
        "    # normalize the numerator and denumerator\n",
        "    while num and num[-1] == 0:\n",
        "        num.pop()\n",
        "    if num == []:\n",
        "        num.append(0)\n",
        "    while den and den[-1] == 0:\n",
        "        den.pop()\n",
        "    if den == []:\n",
        "        den.append(0)\n",
        "\n",
        "    if len(num) >= len(den):\n",
        "        #Shift denumerator towards right to be as num\n",
        "        shiftlen = len(num) - len(den)\n",
        "        den = [0] * shiftlen + den\n",
        "    else:\n",
        "        return [0], num\n",
        "\n",
        "    quot = []\n",
        "    divisor = den[-1]\n",
        "    for i in range(shiftlen + 1):\n",
        "        # Get the the quotient's coeff.\n",
        "        mult = num[-1] / divisor\n",
        "        quot = [int(mult)] + quot\n",
        "\n",
        "        # xor (mult * den) from num in mod 2\n",
        "        if mult != 0:\n",
        "            d = [mult * u for u in den]\n",
        "            num = [int((u + v)%2) for u, v in zip(num, d)]\n",
        "\n",
        "        num.pop()\n",
        "        den.pop(0)\n",
        "\n",
        "    while num and num[-1] == 0:\n",
        "        num.pop()\n",
        "    if num == []:\n",
        "        num.append(0)\n",
        "    return num"
      ],
      "metadata": {
        "id": "dilW-ehFtFvI"
      },
      "execution_count": 30,
      "outputs": []
    },
    {
      "cell_type": "code",
      "source": [
        "def multiply_and_reduce(hex1, hex2, px, numofbits):\n",
        "  a1 = Hex_to_Binary(hex1, numofbits)\n",
        "  a2 = Hex_to_Binary(hex2, numofbits)\n",
        "  ax = multiply_poly(a1, a2)\n",
        "  # print(Binary_to_Hex(ax, numofbits))\n",
        "  px = Hex_to_Binary(px, len(px)*4)\n",
        "  rx = reduce_polynomial(ax, px)\n",
        "  rx = Binary_to_Hex(rx, numofbits)\n",
        "  return rx"
      ],
      "metadata": {
        "id": "sw8DZqaCBsHn"
      },
      "execution_count": 31,
      "outputs": []
    },
    {
      "cell_type": "code",
      "source": [
        "# just testing a multiplication\n",
        "multiply_and_reduce('0388DACE60B6A392F328C2B971B2FE78', '66E94BD4EF8A2C3B884CFA59CA342B2E', \"100000000000000000000000000000087\", 128)"
      ],
      "metadata": {
        "colab": {
          "base_uri": "https://localhost:8080/",
          "height": 0
        },
        "id": "mYaJtTtCV-LY",
        "outputId": "a4e43ca8-47f0-4ef6-e428-335b6710660d"
      },
      "execution_count": 32,
      "outputs": [
        {
          "output_type": "execute_result",
          "data": {
            "application/vnd.google.colaboratory.intrinsic+json": {
              "type": "string"
            },
            "text/plain": [
              "'519fa38ac731568e9c1eb21731167f1c'"
            ]
          },
          "metadata": {},
          "execution_count": 32
        }
      ]
    },
    {
      "cell_type": "code",
      "source": [
        "# The irreducible polynomial in GF(128)\n",
        "px_GF128 = 10**128 +10**7 +10**2 +10+1\n",
        "hex_px_GF128 = \"100000000000000000000000000000087\""
      ],
      "metadata": {
        "id": "WrcPG4rcHpoW"
      },
      "execution_count": 33,
      "outputs": []
    },
    {
      "cell_type": "markdown",
      "source": [
        "The GHASH that uses all of the above"
      ],
      "metadata": {
        "id": "V2iH2teXf79A"
      }
    },
    {
      "cell_type": "code",
      "source": [
        "def GHASH(hashKey, stringX):\n",
        "    # Divide the string into blocks of 128\n",
        "    blocks = get_string_blocks(stringX)\n",
        "\n",
        "    # Get the y1 that will be Xored with the next block X2\n",
        "    hex_px_GF128 = \"100000000000000000000000000000087\"\n",
        "    y = multiply_and_reduce(blocks[0], hashKey, hex_px_GF128, 128)\n",
        "    \n",
        "    for i in range(1, len(blocks)):\n",
        "      # Do XOR between the hexadicimal block and the previous y\n",
        "      xor_result = HEX_XOR(blocks[i], y)\n",
        "      # Multipling the xor_result with H\n",
        "      y = multiply_and_reduce(xor_result, hashKey, hex_px_GF128, 128)\n",
        "\n",
        "    return y"
      ],
      "metadata": {
        "id": "U-XhmvWHpfhQ"
      },
      "execution_count": 34,
      "outputs": []
    },
    {
      "cell_type": "markdown",
      "source": [
        "## GCM - Encryption"
      ],
      "metadata": {
        "id": "5CJl_OYQmeFz"
      }
    },
    {
      "cell_type": "code",
      "source": [
        "def GCM_encrypt(plaintext, key, iv, associatedData, hashKey):\n",
        "  \"\"\"\n",
        "  this function takes:\n",
        "      - plaintext\n",
        "      - key\n",
        "      - iv\n",
        "      - associated data\n",
        "      - hashkey\n",
        "  and encrypts the plaintext, and append the associated data with their lenghts and produce a tag for all of that\n",
        "  \"\"\"\n",
        "  # prepare the first counter from iv->j0->c1\n",
        "  j0 = iv + \"0\"*7 + \"1\"\n",
        "  c1 = iv + \"0\"*7 + \"2\"\n",
        "  # Encrypt the plaintext with CTR function\n",
        "  ciphertxt = encrypt_block_CTR_128(plaintext, key, c1)\n",
        "\n",
        "  # Padding for the ciphertext\n",
        "  ciphertxt_len = len(ciphertxt)\n",
        "  remainder = ciphertxt_len % 32\n",
        "  if remainder != 0:\n",
        "    width = ciphertxt_len + (32 - remainder)\n",
        "    ciphertxt = ciphertxt.ljust(width,\"0\")\n",
        "\n",
        "  # padding for the associated data \n",
        "  associatedData_len = len(associatedData)\n",
        "  remainder = associatedData_len % 32\n",
        "  if remainder != 0:\n",
        "    width = associatedData_len + (32 - remainder)\n",
        "    associatedData = associatedData.ljust(width,\"0\")\n",
        "\n",
        "  # calculating the length of associated data bits in hexa\n",
        "  associatedData_hex_len = hex(associatedData_len*4) # since each hex char is 4 bits\n",
        "  associatedData_hex_len = associatedData_hex_len.replace('0x' , '')\n",
        "  # make sure size is 64 bit\n",
        "  if(len(associatedData_hex_len) < 16):\n",
        "    for i in range(16-len(associatedData_hex_len)):\n",
        "        associatedData_hex_len = '0'+ associatedData_hex_len\n",
        "\n",
        "  # calculating the length of ciphertxt bits in hexa  \n",
        "  ciphertxt_hex_len = hex(ciphertxt_len*4) # since each hex char is 4 bits\n",
        "  ciphertxt_hex_len = ciphertxt_hex_len.replace('0x' , '')\n",
        "  # make sure size is 64 bit\n",
        "  if(len(ciphertxt_hex_len) < 16):\n",
        "    for i in range(16-len(ciphertxt_hex_len)):\n",
        "        ciphertxt_hex_len = '0'+ ciphertxt_hex_len\n",
        "\n",
        "  # Joining the four blocks togther\n",
        "  stringX = associatedData + ciphertxt + associatedData_hex_len + ciphertxt_hex_len\n",
        "\n",
        "  # GHash \n",
        "  ghash = GHASH(hashKey, stringX)\n",
        "\n",
        "  # GCTR\n",
        "  tag = encrypt_block_CTR_128(ghash, key, j0)\n",
        "  return stringX,tag"
      ],
      "metadata": {
        "id": "ttmOotj7mgCK"
      },
      "execution_count": 35,
      "outputs": []
    },
    {
      "cell_type": "code",
      "source": [
        "plaintext = \"08000F101112131415161718191A1B1C1D1E1F202122232425262728292A2B2C2D2E2F303132333435363738393A0002\"\n",
        "key = \"AD7A2BD03EAC835A6F620FDCB506B345\"\n",
        "iv = \"12153524C0895E81B2C28465\"\n",
        "associatedData = \"D609B1F056637A0D46DF998D88E52E00B2C2846512153524C0895E81\"\n",
        "cipher = \"701AFA1CC039C0D765128A665DAB69243899BF7318CCDC81C9931DA17FBE8EDD7D17CB8B4C26FC81E3284F2B7FBA713D\"\n",
        "hashKey = \"73A23D80121DE2D5A850253FCF43120E\"\n",
        "\n",
        "# expected_ghash = \"A4C350FB66B8C960E83363381BA90F50\"\n"
      ],
      "metadata": {
        "id": "i2UZ_3ypKOyY"
      },
      "execution_count": 36,
      "outputs": []
    },
    {
      "cell_type": "code",
      "source": [
        "msg,tag = GCM_encrypt(plaintext, key, iv, associatedData, hashKey)\n",
        "print(msg)\n",
        "print(tag)"
      ],
      "metadata": {
        "colab": {
          "base_uri": "https://localhost:8080/"
        },
        "id": "o2gApnWzKHkZ",
        "outputId": "0180fcca-54ef-4b53-bf0c-aef26193d94c"
      },
      "execution_count": 37,
      "outputs": [
        {
          "output_type": "stream",
          "name": "stdout",
          "text": [
            "D609B1F056637A0D46DF998D88E52E00B2C2846512153524C0895E8100000000701afa1cc039c0d765128a665dab69243899bf7318ccdc81c9931da17fbe8edd7d17cb8b4c26fc81e3284f2b7fba713d00000000000000e00000000000000180\n",
            "5e6c61d4e5795092bfdf9eab8b2647db\n"
          ]
        }
      ]
    },
    {
      "cell_type": "code",
      "source": [
        "msg_1 = \"D609B1F056637A0D46DF998D88E52E00B2C2846512153524C0895E8100000000701afa1cc039c0d765128a665dab69243899bf7318ccdc81c9931da17fbe8edd7d17cb8c4c26fc81e3284f2b7fba713d00000000000000e00000000000000180\""
      ],
      "metadata": {
        "id": "qphqblmsgaPV"
      },
      "execution_count": 38,
      "outputs": []
    },
    {
      "cell_type": "markdown",
      "source": [
        "### GCM - Decryption"
      ],
      "metadata": {
        "id": "xaCUccwwlQwB"
      }
    },
    {
      "cell_type": "code",
      "source": [
        "def GCM_decrypt(msg, tag, key, iv, hashKey):\n",
        "  \"\"\"\n",
        "  this function takes:\n",
        "      - msg\n",
        "      - tag\n",
        "      - key\n",
        "      - iv\n",
        "      - hashkey\n",
        "  and extracts the ciphertxt and decrypts it, also checks if the tag is correct\n",
        "  \"\"\"\n",
        "  # prepare the first counter from iv->j0->c1\n",
        "  j0 = iv + \"0\"*7 + \"1\"\n",
        "  c1 = iv + \"0\"*7 + \"2\"\n",
        "\n",
        "  # extract the lengths of associated data and ciphertext\n",
        "  cipher_len = int(msg[-16:], 16)//4 # in terms of hex chars \n",
        "  assoc_len = int(msg[-32:-16], 16)//4 # in terms of hex chars \n",
        "\n",
        "  # extract associated data\n",
        "  if assoc_len % 32 == 0:\n",
        "      assoc_actual_len = assoc_len\n",
        "  else: \n",
        "      assoc_actual_len = assoc_len+(32 - (assoc_len % 32 ))\n",
        "  associated_data = msg[0:assoc_len]\n",
        "\n",
        "  # extract cipher text data\n",
        "  if cipher_len % 32 == 0:\n",
        "      cipher_actual_len = cipher_len\n",
        "  else: \n",
        "      cipher_actual_len = cipher_len+(32 - (cipher_len % 32 ))\n",
        "  ciphertxt = msg[assoc_actual_len:assoc_actual_len+cipher_actual_len]\n",
        "\n",
        "  # Decrypt the ciphertxt with CTR function\n",
        "  plaintext = encrypt_block_CTR_128(ciphertxt, key, c1)\n",
        "\n",
        "  # try to reproduce the tag\n",
        "  # # GHash \n",
        "  ghash = GHASH(hashKey, msg)\n",
        "  # GCTR\n",
        "  recomputed_tag = encrypt_block_CTR_128(ghash, key, j0)\n",
        "  if tag == recomputed_tag:\n",
        "    print(\"Tag verified\")\n",
        "  else:\n",
        "    print(\"Tag isn't the same!!!\")\n",
        "  return associated_data, plaintext[0:cipher_len], recomputed_tag"
      ],
      "metadata": {
        "id": "vf-a9tNclQCB"
      },
      "execution_count": 39,
      "outputs": []
    },
    {
      "cell_type": "code",
      "source": [
        "\n",
        "associated_data, plaintext, recomputed_tag = GCM_decrypt(msg_1, tag, key, iv, hashKey)\n",
        "print(associated_data)\n",
        "print(plaintext)\n",
        "print(recomputed_tag)"
      ],
      "metadata": {
        "colab": {
          "base_uri": "https://localhost:8080/"
        },
        "id": "mmNLTOHVnxW8",
        "outputId": "3caa1fd8-77bc-4d34-993c-9ab3100fce6b"
      },
      "execution_count": 40,
      "outputs": [
        {
          "output_type": "stream",
          "name": "stdout",
          "text": [
            "Tag isn't the same!!!\n",
            "D609B1F056637A0D46DF998D88E52E00B2C2846512153524C0895E81\n",
            "08000f101112131415161718191a1b1c1d1e1f202122232425262728292a2b2c2d2e2f373132333435363738393a0002\n",
            "13fbc597d5d8fe9cba164f6121cfc63f\n"
          ]
        }
      ]
    },
    {
      "cell_type": "code",
      "source": [
        "plaintext = \"08000F101112131415161718191A1B1C1D1E1F202122232425262728292A2B2C2D2E2F303132333435363738393A0002\"\n",
        "key = \"AD7A2BD03EAC835A6F620FDCB506B345\"\n",
        "iv = \"12153524C0895E81B2C28465\"\n",
        "associatedData = \"D609B1F056637A0D46DF998D88E52E00B2C2846512153524C0895E81\"\n",
        "cipher = \"701AFA1CC039C0D765128A665DAB69243899BF7318CCDC81C9931DA17FBE8EDD7D17CB8B4C26FC81E3284F2B7FBA713D\"\n",
        "hashKey = \"73A23D80121DE2D5A850253FCF43120E\"\n",
        "\n",
        "# expected_ghash = \"A4C350FB66B8C960E83363381BA90F50\""
      ],
      "metadata": {
        "id": "FBRnhUa9tLhF"
      },
      "execution_count": 41,
      "outputs": []
    },
    {
      "cell_type": "markdown",
      "source": [
        "### GCM Encryption time tests"
      ],
      "metadata": {
        "id": "XFbt7t97wVdM"
      }
    },
    {
      "cell_type": "markdown",
      "source": [
        "test on given test case"
      ],
      "metadata": {
        "id": "Lde7XF09w2Cq"
      }
    },
    {
      "cell_type": "code",
      "source": [
        "start_time = datetime.now()\n",
        "msg,tag = GCM_encrypt(plaintext, key, iv, associatedData, hashKey)\n",
        "end_time = datetime.now()\n",
        "total_time = end_time - start_time\n",
        "print('time total: {}'.format(total_time))"
      ],
      "metadata": {
        "colab": {
          "base_uri": "https://localhost:8080/"
        },
        "id": "MeTJQPTnwpYi",
        "outputId": "2800184b-05e0-44d2-fc19-c57f36602c62"
      },
      "execution_count": 42,
      "outputs": [
        {
          "output_type": "stream",
          "name": "stdout",
          "text": [
            "time total: 0:00:00.058636\n"
          ]
        }
      ]
    },
    {
      "cell_type": "code",
      "source": [
        "start_time = datetime.now()\n",
        "associated_data, plaintext, recomputed_tag = GCM_decrypt(msg, tag, key, iv, hashKey)\n",
        "end_time = datetime.now()\n",
        "total_time = end_time - start_time\n",
        "print('time total: {}'.format(total_time))"
      ],
      "metadata": {
        "colab": {
          "base_uri": "https://localhost:8080/"
        },
        "id": "CQxGLjPIxJGb",
        "outputId": "b7ec973a-91ba-4466-cf6a-1222b9e2fa4a"
      },
      "execution_count": 43,
      "outputs": [
        {
          "output_type": "stream",
          "name": "stdout",
          "text": [
            "Tag verified\n",
            "time total: 0:00:00.059954\n"
          ]
        }
      ]
    },
    {
      "cell_type": "markdown",
      "source": [
        "## Other modes"
      ],
      "metadata": {
        "id": "L1fiaGSqWPcr"
      }
    },
    {
      "cell_type": "code",
      "metadata": {
        "id": "noyqjVCHcCI9"
      },
      "source": [
        "#ECB MODE:\n",
        "\n",
        "\"\"\"\n",
        "function to implement block AES-256 for encryption ECB Mode.\n",
        "Parameters:\n",
        "  plaintext \n",
        "  key\n",
        "Returns:\n",
        "  encrypted message\n",
        "\"\"\"\n",
        "def encrypt_block_ECB(plaintext,key):\n",
        "    #divide the plaintext into blocks\n",
        "    blocks = get_string_blocks(plaintext)\n",
        "    #initialize empty list to hold the encrypted blocks\n",
        "    encrypted_blocks = []\n",
        "    #iterate over every block and do the encryption process by calling the\n",
        "    #function AES_256_ECB that takes input block, key and mode E\n",
        "    for block in blocks:\n",
        "        #do encryption for every block\n",
        "        result = AES_256_ECB(block,key,mode=\"E\")\n",
        "        #append the result to the list encrypted_blocks\n",
        "        encrypted_blocks.append(Matrix_To_String(result))\n",
        "    #return the encrypted_blocks\n",
        "    return \"\".join(encrypted_blocks)\n",
        "\n",
        "\n",
        "\"\"\"\n",
        "function to implement block AES-256 for decryption ECB Mode.\n",
        "Parameters:\n",
        "  ciphertext \n",
        "  key\n",
        "Returns:\n",
        "  decrypted blocks\n",
        "\"\"\"\n",
        "def decrypt_block_ECB(ciphertext,key):\n",
        "    #divide the ciphertext intto blocks\n",
        "    blocks = get_string_blocks(ciphertext)\n",
        "    #initialize empty list to hold the decrypted blocks\n",
        "    decrypted_blocks = []\n",
        "    #iterate over every block and do the decryption process by calling the\n",
        "    #function AES_256_ECB that takes input block, key and mode D\n",
        "    for block in blocks:\n",
        "        #do decryption for every block\n",
        "        result = AES_256_ECB(block,key,mode=\"D\")\n",
        "        #append the result to the list decrypted_blocks\n",
        "        decrypted_blocks.append(Matrix_To_String(result))\n",
        "    #return the decrypted_blocks\n",
        "    return \"\".join(decrypted_blocks)"
      ],
      "execution_count": 44,
      "outputs": []
    },
    {
      "cell_type": "code",
      "source": [
        "# CBC MODE:\n",
        "\n",
        "\"\"\"\n",
        "function to implement block AES-256 for encryption for CBC Mode.\n",
        "Parameters:\n",
        "  plaintext \n",
        "  key\n",
        "  iv (initialization vector)\n",
        "Returns:\n",
        "  encrypted message\n",
        "\"\"\"\n",
        "def encrypt_block_CBC(plaintext,key,iv):\n",
        "    #divide the plaintext into blocks\n",
        "    blocks = get_string_blocks(plaintext)\n",
        "    #initialize empty list to hold the encrypted blocks\n",
        "    encrypted_blocks = []\n",
        "    #iterate over every block\n",
        "    for block in blocks:\n",
        "        #do XOR between the hexadicimal blcok and initialization vector\n",
        "        xor_result = HEX_XOR(block,iv)\n",
        "        #do encryption for every block using the function AES_256_ECB\n",
        "        result = AES_256_ECB(xor_result,key,mode=\"E\")\n",
        "        #append the result to the list encrypted_blocks\n",
        "        encrypted_blocks.append(Matrix_To_String(result))\n",
        "        #update iv to the previous value of the encrypted_blocks\n",
        "        iv = encrypted_blocks[-1]\n",
        "    #return the encrypted_blocks\n",
        "    return \"\".join(encrypted_blocks)\n",
        "\n",
        "\n",
        "\"\"\"\n",
        "function to implement block AES-256 for decryption CBC Mode.\n",
        "Parameters:\n",
        "  ciphertext \n",
        "  key\n",
        "  iv (initialization vector)\n",
        "Returns:\n",
        "  decrypted blocks\n",
        "\"\"\"\n",
        "def decrypt_block_CBC(ciphertext,key,iv):\n",
        "    #divide the ciphertext into blocks\n",
        "    blocks = get_string_blocks(ciphertext)\n",
        "    #initialize empty list to hold the decrypted blocks\n",
        "    decrypted_blocks = []\n",
        "    blocks_buffer = []\n",
        "    #iterate over every block\n",
        "    for block in blocks:\n",
        "        blocks_buffer.append(block)\n",
        "        #do decryption for every block using the function AES_256_ECB\n",
        "        result = AES_256_ECB(block,key,mode=\"D\")\n",
        "        #do XOR for the hexadecimal result and initialization vector\n",
        "        xor_result = HEX_XOR(Matrix_To_String(result),iv)\n",
        "        #append the xor_result to the decrypted_blocks\n",
        "        decrypted_blocks.append(xor_result)\n",
        "        #update iv to be equal the previous block of the ciphertext\n",
        "        iv = blocks_buffer[-1]\n",
        "    #return the decrypted_blocks\n",
        "    return \"\".join(decrypted_blocks)"
      ],
      "metadata": {
        "id": "XLKPWWpbSl9J"
      },
      "execution_count": 45,
      "outputs": []
    },
    {
      "cell_type": "code",
      "source": [
        "# CFB MODE (the one like openssl):\n",
        "\n",
        "\"\"\"\n",
        "function to implement block AES-256 for encryption for CFB Mode.\n",
        "Parameters:\n",
        "  plaintext \n",
        "  key\n",
        "  iv (initialization vector)\n",
        "Returns:\n",
        "  encrypted message\n",
        "\"\"\"\n",
        "def encrypt_CFB(plaintext,key,iv):\n",
        "    #divide the plaintext into blocks\n",
        "    blocks = get_string_blocks(plaintext)\n",
        "    #initialize empty list to hold the encrypted blocks\n",
        "    encrypted_blocks = []\n",
        "    #iterate over every block\n",
        "    for block in blocks:\n",
        "        #do encryption for the initialization vector and the key\n",
        "        result = Matrix_To_String(AES_256_ECB(iv,key,mode='E'))\n",
        "        #do XOR for the hexadecimal result and block\n",
        "        xor_result = HEX_XOR(result, block)\n",
        "        #append the xor_result to the encrypted_blocks\n",
        "        encrypted_blocks.append(xor_result)\n",
        "        #update the initialization vector to equal the xor_result\n",
        "        iv = xor_result\n",
        "    #return the encrypted_blocks\n",
        "    return \"\".join(encrypted_blocks)\n",
        "\n",
        "\n",
        "\"\"\"\n",
        "function to implement block AES-256 for decryption CFB Mode.\n",
        "Parameters:\n",
        "  ciphertext \n",
        "  key\n",
        "  iv (initialization vector)\n",
        "Returns:\n",
        "  decrypted blocks\n",
        "\"\"\"\n",
        "def decrypt_CFB(ciphertext, key, iv):\n",
        "    #divide the ciphertext into blocks\n",
        "    blocks = get_string_blocks(ciphertext)\n",
        "    #initialize empty list to hold the decrypted blocks\n",
        "    decrypted_blocks = []\n",
        "    #iterate over every block   \n",
        "    for block in blocks:\n",
        "        #do encryption for the initialization vector and the key\n",
        "        result = Matrix_To_String(AES_256_ECB(iv,key,mode='E'))\n",
        "        #do XOR for the hexadecimal result and block\n",
        "        xor_result = HEX_XOR(block, result)\n",
        "        #append the xor_result to the encrypted_blocks\n",
        "        decrypted_blocks.append(xor_result)\n",
        "        #update the initialization vector to equal the block\n",
        "        iv = block\n",
        "    return \"\".join(decrypted_blocks)"
      ],
      "metadata": {
        "id": "Zk0B14ZiSr0K"
      },
      "execution_count": 46,
      "outputs": []
    },
    {
      "cell_type": "markdown",
      "source": [
        "##Testing"
      ],
      "metadata": {
        "id": "OV12J_a8bbWx"
      }
    },
    {
      "cell_type": "markdown",
      "source": [
        "Testing ECB:"
      ],
      "metadata": {
        "id": "MYD9gANlZCd4"
      }
    },
    {
      "cell_type": "code",
      "source": [
        "start_time = datetime.now()\n",
        "output = encrypt_block_ECB(\"91fbef2d15a97816060bee1feaa49afe\",\"3c4baaf4bdfa1e3de57891cfde4522ab3c4b6fff21a3b5ed56e11a99a0cd4566\")\n",
        "end_time = datetime.now()\n",
        "total_time = end_time - start_time\n",
        "print(\"The ciphertext: \" ,output)\n",
        "print('time total: {}'.format(total_time))"
      ],
      "metadata": {
        "colab": {
          "base_uri": "https://localhost:8080/"
        },
        "id": "5w6pm_EJX7P7",
        "outputId": "9674d906-584f-4a62-9f32-4b4930c72a1a"
      },
      "execution_count": 47,
      "outputs": [
        {
          "output_type": "stream",
          "name": "stdout",
          "text": [
            "The ciphertext:  05834df1118469393e83d7c9c6ba2a7b\n",
            "time total: 0:00:00.013488\n"
          ]
        }
      ]
    },
    {
      "cell_type": "code",
      "source": [
        "start_time = datetime.now()\n",
        "output = decrypt_block_ECB(\"05834df1118469393e83d7c9c6ba2a7b\",\"3c4baaf4bdfa1e3de57891cfde4522ab3c4b6fff21a3b5ed56e11a99a0cd4566\")\n",
        "end_time = datetime.now()\n",
        "total_time = end_time - start_time\n",
        "print(\"The decrypted: \" ,output)\n",
        "print('time total: {}'.format(total_time))"
      ],
      "metadata": {
        "colab": {
          "base_uri": "https://localhost:8080/"
        },
        "id": "nbNpigV2YzzD",
        "outputId": "363f8bd0-7c1e-41ac-ee0e-7b12d00b40f2"
      },
      "execution_count": 48,
      "outputs": [
        {
          "output_type": "stream",
          "name": "stdout",
          "text": [
            "The decrypted:  91fbef2d15a97816060bee1feaa49afe\n",
            "time total: 0:00:00.020168\n"
          ]
        }
      ]
    },
    {
      "cell_type": "markdown",
      "source": [
        "Testing CBC:"
      ],
      "metadata": {
        "id": "cIdPdKPnZHNk"
      }
    },
    {
      "cell_type": "code",
      "source": [
        "start_time = datetime.now()\n",
        "output = encrypt_block_CBC(\"91fbef2d15a97816060bee1feaa49afe\",\"3c4baaf4bdfa1e3de57891cfde4522ab3c4b6fff21a3b5ed56e11a99a0cd4566\", \"abc12345abc000abfde8789ae124bccd\")\n",
        "end_time = datetime.now()\n",
        "total_time = end_time - start_time\n",
        "print(\"The ciphertext: \" ,output)\n",
        "print('time total: {}'.format(total_time))"
      ],
      "metadata": {
        "colab": {
          "base_uri": "https://localhost:8080/"
        },
        "id": "DMG3B0d8ZKEI",
        "outputId": "54cfac68-900a-4daf-9144-609069b10359"
      },
      "execution_count": 49,
      "outputs": [
        {
          "output_type": "stream",
          "name": "stdout",
          "text": [
            "The ciphertext:  24642c54f02225fcf6cd23d6064d63e3\n",
            "time total: 0:00:00.010065\n"
          ]
        }
      ]
    },
    {
      "cell_type": "code",
      "source": [
        "start_time = datetime.now()\n",
        "output = decrypt_block_CBC(\"24642c54f02225fcf6cd23d6064d63e3\",\"3c4baaf4bdfa1e3de57891cfde4522ab3c4b6fff21a3b5ed56e11a99a0cd4566\", \"abc12345abc000abfde8789ae124bccd\")\n",
        "end_time = datetime.now()\n",
        "total_time = end_time - start_time\n",
        "print(\"The decrypted: \" ,output)\n",
        "print('time total: {}'.format(total_time))"
      ],
      "metadata": {
        "colab": {
          "base_uri": "https://localhost:8080/"
        },
        "id": "_nhfTvs5ZZZX",
        "outputId": "11f1acdc-b9c5-4045-8b6e-7a8c4a6d9ef7"
      },
      "execution_count": 50,
      "outputs": [
        {
          "output_type": "stream",
          "name": "stdout",
          "text": [
            "The decrypted:  91fbef2d15a97816060bee1feaa49afe\n",
            "time total: 0:00:00.028144\n"
          ]
        }
      ]
    },
    {
      "cell_type": "markdown",
      "source": [
        "Testing CFB (like openssl):"
      ],
      "metadata": {
        "id": "iSTyoC4GamxK"
      }
    },
    {
      "cell_type": "code",
      "source": [
        "start_time = datetime.now()\n",
        "output = encrypt_CFB(\"91fbef2d15a97816060bee1feaa49afe\",\"3c4baaf4bdfa1e3de57891cfde4522ab3c4b6fff21a3b5ed56e11a99a0cd4566\", \"abc12345abc000abfde8789ae124bccd\")\n",
        "end_time = datetime.now()\n",
        "total_time = end_time - start_time\n",
        "print(\"The ciphertext: \" ,output)\n",
        "print('time total: {}'.format(total_time))"
      ],
      "metadata": {
        "colab": {
          "base_uri": "https://localhost:8080/"
        },
        "id": "Po8suV9NaqHL",
        "outputId": "85979433-befa-44cc-8387-a0544e0c908c"
      },
      "execution_count": 51,
      "outputs": [
        {
          "output_type": "stream",
          "name": "stdout",
          "text": [
            "The ciphertext:  75a21df06481ef3b3cee8c6384893109\n",
            "time total: 0:00:00.008869\n"
          ]
        }
      ]
    },
    {
      "cell_type": "code",
      "source": [
        "start_time = datetime.now()\n",
        "output = decrypt_CFB(\"75a21df06481ef3b3cee8c6384893109\",\"3c4baaf4bdfa1e3de57891cfde4522ab3c4b6fff21a3b5ed56e11a99a0cd4566\", \"abc12345abc000abfde8789ae124bccd\")\n",
        "end_time = datetime.now()\n",
        "total_time = end_time - start_time\n",
        "print(\"The decrypted: \" ,output)\n",
        "print('time total: {}'.format(total_time))"
      ],
      "metadata": {
        "colab": {
          "base_uri": "https://localhost:8080/"
        },
        "id": "93YcrJl7au8c",
        "outputId": "57d81811-66a0-4101-dd6b-2b94bd82cfe1"
      },
      "execution_count": 52,
      "outputs": [
        {
          "output_type": "stream",
          "name": "stdout",
          "text": [
            "The decrypted:  91fbef2d15a97816060bee1feaa49afe\n",
            "time total: 0:00:00.009323\n"
          ]
        }
      ]
    },
    {
      "cell_type": "markdown",
      "source": [
        "COMPARISON WITH LONGER PLAINTEXT"
      ],
      "metadata": {
        "id": "zZNnzX_zsLi8"
      }
    },
    {
      "cell_type": "code",
      "source": [
        "# ECB\n",
        "start_time = datetime.now()\n",
        "output = encrypt_block_ECB(\"cf52e5c3954c51b94c9e38acb8c9a7c76aebdaa9943eae0a1ce155a2efdb4d46985d935511471452d9ee64d2461cb2991d59fc0060697f9a671672163230f367fed1422316e52d29eceacb8768f56d9b80f6d278093c9a8acd3cfd7edd8ebd5c293859f64d2f8486ae1bd593c65bc014\",\"3c4baaf4bdfa1e3de57891cfde4522ab3c4b6fff21a3b5ed56e11a99a0cd4566\")\n",
        "end_time = datetime.now()\n",
        "total_time = end_time - start_time\n",
        "print(\"The ciphertext: \" ,output)\n",
        "print('time total: {}'.format(total_time))"
      ],
      "metadata": {
        "colab": {
          "base_uri": "https://localhost:8080/"
        },
        "id": "d6NVwpeCsZOn",
        "outputId": "28273d7c-6af6-4a9e-efe8-f0d9908a08a7"
      },
      "execution_count": 53,
      "outputs": [
        {
          "output_type": "stream",
          "name": "stdout",
          "text": [
            "The ciphertext:  3a12579604b1716efac2b7cbe7c258a5f9bbd5c3445dacb3556090c8a14c73b5dd63acb1c075f6b4b2ccbc5d3771ef889dec552c0f26a69ae7b80d65e5d4262e97ad2d7288815cd0b0b5091485629c2e1030b7ca83465d926c251fcda56af4dd63a342b1d206f6ed95ebbf3718f79ff3\n",
            "time total: 0:00:00.049738\n"
          ]
        }
      ]
    },
    {
      "cell_type": "code",
      "source": [
        "# CBC\n",
        "start_time = datetime.now()\n",
        "output = encrypt_block_CBC(\"cf52e5c3954c51b94c9e38acb8c9a7c76aebdaa9943eae0a1ce155a2efdb4d46985d935511471452d9ee64d2461cb2991d59fc0060697f9a671672163230f367fed1422316e52d29eceacb8768f56d9b80f6d278093c9a8acd3cfd7edd8ebd5c293859f64d2f8486ae1bd593c65bc014\",\"3c4baaf4bdfa1e3de57891cfde4522ab3c4b6fff21a3b5ed56e11a99a0cd4566\", \"abc12345abc000abfde8789ae124bccd\")\n",
        "end_time = datetime.now()\n",
        "total_time = end_time - start_time\n",
        "print(\"The ciphertext: \" ,output)\n",
        "print('time total: {}'.format(total_time))"
      ],
      "metadata": {
        "colab": {
          "base_uri": "https://localhost:8080/"
        },
        "id": "yllf5NHqsPi2",
        "outputId": "f937423b-befc-4769-8b75-c17c9f47129d"
      },
      "execution_count": 54,
      "outputs": [
        {
          "output_type": "stream",
          "name": "stdout",
          "text": [
            "The ciphertext:  4646602778b1210b37d96e70e0ba56d3d41fc7f03e872a155f9dbf9d2117e818a08a09057ce185f4ed4be6d6d48af6863b6f8b94989ed6f7e1a3ccd3ccc9bca736182ad6b9207bfa375224af4e7bab59be5a91a90d71394d5f59a37ad10676efec22c3fbd8e83a0eb66bfc0d212b4aae\n",
            "time total: 0:00:00.044943\n"
          ]
        }
      ]
    },
    {
      "cell_type": "code",
      "source": [
        "# CFB\n",
        "start_time = datetime.now()\n",
        "output = encrypt_CFB(\"cf52e5c3954c51b94c9e38acb8c9a7c76aebdaa9943eae0a1ce155a2efdb4d46985d935511471452d9ee64d2461cb2991d59fc0060697f9a671672163230f367fed1422316e52d29eceacb8768f56d9b80f6d278093c9a8acd3cfd7edd8ebd5c293859f64d2f8486ae1bd593c65bc014\",\"3c4baaf4bdfa1e3de57891cfde4522ab3c4b6fff21a3b5ed56e11a99a0cd4566\", \"abc12345abc000abfde8789ae124bccd\")\n",
        "end_time = datetime.now()\n",
        "total_time = end_time - start_time\n",
        "print(\"The ciphertext: \" ,output)\n",
        "print('time total: {}'.format(total_time))"
      ],
      "metadata": {
        "colab": {
          "base_uri": "https://localhost:8080/"
        },
        "id": "mYHcuRXIse1-",
        "outputId": "a39dd05a-8f6a-43eb-c857-e7c46fdb0d61"
      },
      "execution_count": 55,
      "outputs": [
        {
          "output_type": "stream",
          "name": "stdout",
          "text": [
            "The ciphertext:  2b0b171ee464c694767b5ad0d6e40c300ee95316f799b46ba6f1e6f631a63706912d2500fdea7104baea3c958fe3af8188823f94d22a0c3a228acbadffd39013100b7b80f7d6672045bf42505aaec66b7e98339cedd1df2d9d81683eea60a2cff8704a9975fb42cbf784a3015b08e3a6\n",
            "time total: 0:00:00.045618\n"
          ]
        }
      ]
    }
  ]
}